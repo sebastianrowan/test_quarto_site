{
  "cells": [
    {
      "cell_type": "raw",
      "metadata": {},
      "source": [
        "---\n",
        "title: \"About\"\n",
        "---"
      ],
      "id": "fd4cb4e3"
    },
    {
      "cell_type": "markdown",
      "metadata": {},
      "source": [
        "About this site:\n",
        "\n",
        "This site is a website built with Quarto and deployed to GitHub Pages\n"
      ],
      "id": "20fcc00f"
    },
    {
      "cell_type": "code",
      "metadata": {},
      "source": [
        "import matplotlib.pylot as plt\n",
        "\n",
        "x = list(range(10))\n",
        "y = list(range(10,20))\n",
        "\n",
        "fig, ax = plt.subplots()\n",
        "ax.plot(x, y, color='blue')\n",
        "fig.show()"
      ],
      "id": "3350429f",
      "execution_count": null,
      "outputs": []
    }
  ],
  "metadata": {
    "kernelspec": {
      "display_name": "Python 3",
      "language": "python",
      "name": "python3"
    }
  },
  "nbformat": 4,
  "nbformat_minor": 5
}